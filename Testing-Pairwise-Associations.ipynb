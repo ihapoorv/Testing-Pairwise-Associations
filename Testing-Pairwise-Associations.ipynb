{
 "cells": [
  {
   "cell_type": "markdown",
   "metadata": {},
   "source": [
    "## Type of Variables:-\n",
    "1. Categorical Variable or factor is a variable that take limited and fixed number of possible values, assigning these values to a particular group or category. As an example gender is a category having two va;ues i.e., male and female and there is no ordering to the categories.\n",
    "2. Ordinal Variable is categorical variable with the ordering of the levels, for example pizza (none, small, medium, large)\n",
    "3. Continuous or Quantative Variable is a variable that can take any values in a range. For example salary, experience"
   ]
  },
  {
   "cell_type": "markdown",
   "metadata": {},
   "source": [
    "#### What statistical test should I use?\n",
    "Quantitative ~ Categorical\n",
    "- 1 sample\n",
    "    - 1 sample t-test\n",
    "    - Wilcoxon\n",
    "- 2 samples\n",
    "    - 2 samples t-test\n",
    "    - Mann- Whitney\n",
    "- More than 2 samples\n",
    "    - One way ANOVA\n",
    "    - Friedman"
   ]
  },
  {
   "cell_type": "markdown",
   "metadata": {},
   "source": [
    "Quantitative ~ Quantitative\n",
    "- Pearson Correlation\n",
    "- Simple Regression\n",
    "- Spearman Correlation"
   ]
  },
  {
   "cell_type": "markdown",
   "metadata": {},
   "source": [
    "Quantitative ~ Quantitative+Quantitative+Quantitative+...\n",
    "- Multiple Regression"
   ]
  },
  {
   "cell_type": "markdown",
   "metadata": {},
   "source": [
    "Quantitative ~ Quantitative+Categorical+Categorical+...\n",
    "- ANCOVA"
   ]
  },
  {
   "cell_type": "markdown",
   "metadata": {},
   "source": [
    "Quantitative ~ Quantitative+Categorical\n",
    "- Logistic Regression"
   ]
  },
  {
   "cell_type": "markdown",
   "metadata": {},
   "source": [
    "Categorical ~ Categorical\n",
    "- $chi^{2}$"
   ]
  },
  {
   "cell_type": "code",
   "execution_count": 2,
   "metadata": {},
   "outputs": [
    {
     "data": {
      "text/plain": [
       "-0.10792572215833947"
      ]
     },
     "execution_count": 2,
     "metadata": {},
     "output_type": "execute_result"
    }
   ],
   "source": [
    "#tesing the correlation coefficient of two quantitative variables. The test is done by using Pearson Correlation\n",
    "import numpy as np\n",
    "import scipy.stats as stats\n",
    "n = 50\n",
    "x = np.random.normal(size = n)\n",
    "y = 2*x*np.random.normal(size = n)\n",
    "cor, pval = stats.pearsonr(x, y)\n",
    "cor"
   ]
  },
  {
   "cell_type": "markdown",
   "metadata": {},
   "source": [
    "#### Two Sample t-test\n",
    "This test is used to determine that two population means are equal.\n",
    "##### Steps\n",
    "1. Model the data<br>\n",
    "Assume that the two random variables is normally distributed: y1 ~ $\\mathcal{N}(\\mu_{1},\\sigma_{1})$ ~ $\\mathcal{N}(\\mu_{2},\\sigma_{2}$.<br>\n",
    "2. Fit: Estimate the model parameters<br>\n",
    "Estimate means and variances: $\\bar{y_{1}},s_{y1}^2,\\bar{y2},s_{y_{2}}^2$<br>\n",
    "3. t-test<br>\n",
    "$t = \\frac{\\bar{y_{1}}-\\bar{y_{2}}}{s_{\\bar{y1}-\\bar{y2}}}$"
   ]
  },
  {
   "cell_type": "code",
   "execution_count": 3,
   "metadata": {},
   "outputs": [
    {
     "name": "stdout",
     "output_type": "stream",
     "text": [
      "Ttest_indResult(statistic=3.5511519888466885, pvalue=0.00228208937112721)\n"
     ]
    }
   ],
   "source": [
    "#Example\n",
    "#Given the following two samples, test whether their means are equal using the standard t-test,assuming equal variance.\n",
    "import scipy.stats as stats\n",
    "height = np.array([ 1.83, 1.83, 1.73, 1.82, 1.83, 1.73, 1.99, 1.85, 1.68, 1.87,\n",
    "1.66, 1.71, 1.73, 1.64, 1.70, 1.60, 1.79, 1.73, 1.62, 1.77])\n",
    "grp = np.array([\"M\"] * 10 + [\"F\"] * 10)\n",
    "# Compute with scipy\n",
    "print(stats.ttest_ind(height[grp == \"M\"], height[grp == \"F\"], equal_var=True))"
   ]
  },
  {
   "cell_type": "markdown",
   "metadata": {},
   "source": [
    "#### ANOVA F -test (quantitative ~ categorial (>2 levels))\n",
    "Analysis of variance (ANOVA) provides a statistical test of whether or not the means of several\n",
    "groups are equal, and therefore generalizes the t-test to more than two groups. ANOVAs are\n",
    "useful for comparing (testing) three or more means (groups or variables) for statistical signifi-\n",
    "cance. It is conceptually similar to multiple two-sample t-tests, but is less conservative.\n",
    "Here we will consider one-way ANOVA with one independent variable, ie one-way anova.<br>\n",
    "• Test if any group is on average superior, or inferior, to the others versus the null hypothesis that all four strategies yield the same mean response<br>\n",
    "• Detect any of several possible differences.<br>\n",
    "• The advantage of the ANOVA F -test is that we do not need to pre-specify which strategies are to be compared, and we do not need to adjust for making multiple comparisons.<br>\n",
    "• The disadvantage of the ANOVA F -test is that if we reject the null hypothesis, we do not\n",
    "know which strategies can be said to be significantly different from the others.\n",
    "1. Model the data\n",
    "A company has applied three marketing strategies to three samples of customers in order in-\n",
    "crease their business volume. The marketing is asking whether the strategies led to different\n",
    "increases of business volume. Let y 1 , y 2 and y 3 be the three samples of business volume increase.\n",
    "Here we assume that the three populations were sampled from three random variables that are\n",
    "normally distributed. I.e., Y 1 ∼ N (μ 1 , σ 1 ), Y 2 ∼ N (μ 2 , σ 2 ) and Y 3 ∼ N (μ 3 , σ 3 ).\n",
    "2. Fit: estimate the model parameters\n",
    "Estimate means and variances: y  ̄ i , σ i , ∀i ∈ {1, 2, 3}.\n",
    "3. F -test\n",
    "The formula for the one-way ANOVA F-test statistic is\n",
    "$F = \\frac{Explained Variables}{Unexplained Variables}$\n"
   ]
  },
  {
   "cell_type": "code",
   "execution_count": null,
   "metadata": {},
   "outputs": [],
   "source": []
  }
 ],
 "metadata": {
  "kernelspec": {
   "display_name": "Python 3",
   "language": "python",
   "name": "python3"
  },
  "language_info": {
   "codemirror_mode": {
    "name": "ipython",
    "version": 3
   },
   "file_extension": ".py",
   "mimetype": "text/x-python",
   "name": "python",
   "nbconvert_exporter": "python",
   "pygments_lexer": "ipython3",
   "version": "3.7.3"
  }
 },
 "nbformat": 4,
 "nbformat_minor": 2
}
